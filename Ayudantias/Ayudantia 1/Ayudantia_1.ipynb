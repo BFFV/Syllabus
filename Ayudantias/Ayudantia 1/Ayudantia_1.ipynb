{
 "cells": [
  {
   "cell_type": "markdown",
   "metadata": {
    "deletable": true,
    "editable": true
   },
   "source": [
    "# IIC1005: Ayudantía 1\n",
    "\n",
    "#### 14 de marzo de 2018.\n",
    "\n",
    "###### Esta ayudantía está inspirada en la Ayudantía 2 de la versión 2017-2 de este curso. Puedes encontrar la original [aquí](https://github.com/diflores/iic1005-ayudantia-2)."
   ]
  },
  {
   "cell_type": "markdown",
   "metadata": {
    "deletable": true,
    "editable": true
   },
   "source": [
    "## *Jupyter notebooks*\n",
    "\n",
    "**¿Qué es un *notebook*?**\n",
    "\n",
    "Un *notebook* es un documento generado por la *Jupyter Notebook App*. Estos documentos contienen código ejecutable y también elementos más amigables para el ser humano común, tales como párrafos, ecuaciones e hipervínculos. Estas características convierten a los *notebooks* en herramientas ideales para aprender Python, procesar datos y aventurarse *machine learning*.\n",
    "\n",
    "Los *notebooks* se componen de una serie de celdas, que pueden ser de distintos tipos. Por lo general, utilizaremos solo dos:\n",
    "\n",
    "- Code (para escribir código ejecutable).\n",
    "- [*Markdown*](https://guides.github.com/features/mastering-markdown/) (para escribir párrafos en dicho lenguage de marcación).\n",
    "\n",
    "La celda actual es una celda de tipo *markdown*. La siguiente, corresponde a una de tipo *code*. Puedes ejecutar su código presionando el ícono ▶️:"
   ]
  },
  {
   "cell_type": "code",
   "execution_count": 19,
   "metadata": {
    "collapsed": false,
    "deletable": true,
    "editable": true
   },
   "outputs": [
    {
     "name": "stdout",
     "output_type": "stream",
     "text": [
      "¡Hola mundo!\n"
     ]
    }
   ],
   "source": [
    "print(\"¡Hola mundo!\")"
   ]
  },
  {
   "cell_type": "markdown",
   "metadata": {
    "deletable": true,
    "editable": true
   },
   "source": [
    "También puedes ejecutar el código de una celda presionando shift + enter, lo que ejecutará el código y avanzará a la celda siguiente. Si deseas ejecutar el código, pero mantenerte en la celda correspondiente, utiliza ctrl + enter. Si quieres aprender más atajos de teclado, presiona esc + h"
   ]
  },
  {
   "cell_type": "markdown",
   "metadata": {
    "deletable": true,
    "editable": true
   },
   "source": [
    "## Pandas\n",
    "\n",
    "**¿Qué es pandas?**\n",
    "\n",
    "Pandas es una librería de Python que nos permitirá manipular datos de manera sencilla.\n",
    "\n",
    "**¿Por qué no utilizamos las estructuras de datos de Python para esto?**\n",
    "\n",
    "Porque aun cuando sirvan para solucionar el problema, su uso en esta misión no es eficiente. \n",
    "\n",
    "### Conceptos básicos de pandas: *Series* y *DataFrames*\n",
    "\n",
    "Pandas cuenta con dos estructuras de datos principales, las *Series* y los *DataFrames*. Una Series puede ser comprendida como una columna de datos. Un *DataFrame*, por su parte, puede ser visto como un conjunto de *Series*.\n",
    "\n",
    "A continuación, revisaremos un ejemplo sencillo, que nos permitirá introducirnos al uso de pandas. Lo primero que debemos hacer es importar la librería:"
   ]
  },
  {
   "cell_type": "code",
   "execution_count": 2,
   "metadata": {
    "collapsed": true,
    "deletable": true,
    "editable": true
   },
   "outputs": [],
   "source": [
    "import pandas as pd"
   ]
  },
  {
   "cell_type": "markdown",
   "metadata": {
    "deletable": true,
    "editable": true
   },
   "source": [
    "En este ejemplo, utilizaremos un *dataset* de transacciones de enero de 2009, el que fue obtenido desde [aquí](https://support.spatialkey.com/spatialkey-sample-csv-data/). Lo primero que debemos hacer es cargar los datos. Para ello, la librería pandas provee un método muy útil llamado `read_csv`."
   ]
  },
  {
   "cell_type": "code",
   "execution_count": 3,
   "metadata": {
    "collapsed": false,
    "deletable": true,
    "editable": true
   },
   "outputs": [],
   "source": [
    "dataset = pd.read_csv(\"SalesJan2009.csv\")"
   ]
  },
  {
   "cell_type": "markdown",
   "metadata": {
    "deletable": true,
    "editable": true
   },
   "source": [
    "### Explorando los datos mediante preguntas *interesantes*\n",
    "Antes de manipular los datos, es conveniente explorarlos. Inicialmente, podríamos preguntarnos: ¿qué columnas contiene el *dataset* recién cargado? Podemos obtener esta información ejecutando la siguiente celda:"
   ]
  },
  {
   "cell_type": "code",
   "execution_count": 4,
   "metadata": {
    "collapsed": false,
    "deletable": true,
    "editable": true
   },
   "outputs": [
    {
     "data": {
      "text/plain": [
       "Index(['Transaction_date', 'Product', 'Price', 'Payment_Type', 'Name', 'City',\n",
       "       'State', 'Country', 'Account_Created', 'Last_Login', 'Latitude',\n",
       "       'Longitude'],\n",
       "      dtype='object')"
      ]
     },
     "execution_count": 4,
     "metadata": {},
     "output_type": "execute_result"
    }
   ],
   "source": [
    "dataset.columns"
   ]
  },
  {
   "cell_type": "markdown",
   "metadata": {
    "deletable": true,
    "editable": true
   },
   "source": [
    "**¿Cuántas filas tiene el *dataset*?**"
   ]
  },
  {
   "cell_type": "code",
   "execution_count": 5,
   "metadata": {
    "collapsed": false,
    "deletable": true,
    "editable": true
   },
   "outputs": [
    {
     "data": {
      "text/plain": [
       "998"
      ]
     },
     "execution_count": 5,
     "metadata": {},
     "output_type": "execute_result"
    }
   ],
   "source": [
    "len(dataset)"
   ]
  },
  {
   "cell_type": "markdown",
   "metadata": {
    "deletable": true,
    "editable": true
   },
   "source": [
    "**¿Cómo se ve el *dataset*?**"
   ]
  },
  {
   "cell_type": "code",
   "execution_count": 6,
   "metadata": {
    "collapsed": false,
    "deletable": true,
    "editable": true
   },
   "outputs": [
    {
     "data": {
      "text/html": [
       "<div>\n",
       "<style>\n",
       "    .dataframe thead tr:only-child th {\n",
       "        text-align: right;\n",
       "    }\n",
       "\n",
       "    .dataframe thead th {\n",
       "        text-align: left;\n",
       "    }\n",
       "\n",
       "    .dataframe tbody tr th {\n",
       "        vertical-align: top;\n",
       "    }\n",
       "</style>\n",
       "<table border=\"1\" class=\"dataframe\">\n",
       "  <thead>\n",
       "    <tr style=\"text-align: right;\">\n",
       "      <th></th>\n",
       "      <th>Transaction_date</th>\n",
       "      <th>Product</th>\n",
       "      <th>Price</th>\n",
       "      <th>Payment_Type</th>\n",
       "      <th>Name</th>\n",
       "      <th>City</th>\n",
       "      <th>State</th>\n",
       "      <th>Country</th>\n",
       "      <th>Account_Created</th>\n",
       "      <th>Last_Login</th>\n",
       "      <th>Latitude</th>\n",
       "      <th>Longitude</th>\n",
       "    </tr>\n",
       "  </thead>\n",
       "  <tbody>\n",
       "    <tr>\n",
       "      <th>963</th>\n",
       "      <td>1/22/09 12:45</td>\n",
       "      <td>Product3</td>\n",
       "      <td>7500</td>\n",
       "      <td>Visa</td>\n",
       "      <td>Frank and Christelle</td>\n",
       "      <td>Valley Center</td>\n",
       "      <td>CA</td>\n",
       "      <td>United States</td>\n",
       "      <td>1/22/09 10:25</td>\n",
       "      <td>2/27/09 10:49</td>\n",
       "      <td>33.218330</td>\n",
       "      <td>-117.033330</td>\n",
       "    </tr>\n",
       "    <tr>\n",
       "      <th>221</th>\n",
       "      <td>1/21/09 14:55</td>\n",
       "      <td>Product1</td>\n",
       "      <td>1200</td>\n",
       "      <td>Diners</td>\n",
       "      <td>john</td>\n",
       "      <td>New York</td>\n",
       "      <td>NY</td>\n",
       "      <td>United States</td>\n",
       "      <td>1/21/09 10:23</td>\n",
       "      <td>1/21/09 20:34</td>\n",
       "      <td>40.714170</td>\n",
       "      <td>-74.006390</td>\n",
       "    </tr>\n",
       "    <tr>\n",
       "      <th>928</th>\n",
       "      <td>1/26/09 5:38</td>\n",
       "      <td>Product2</td>\n",
       "      <td>3600</td>\n",
       "      <td>Amex</td>\n",
       "      <td>Tulin</td>\n",
       "      <td>Cranberry Twp</td>\n",
       "      <td>PA</td>\n",
       "      <td>United States</td>\n",
       "      <td>9/28/08 19:40</td>\n",
       "      <td>2/26/09 6:04</td>\n",
       "      <td>40.694720</td>\n",
       "      <td>-80.131110</td>\n",
       "    </tr>\n",
       "    <tr>\n",
       "      <th>197</th>\n",
       "      <td>1/1/09 2:09</td>\n",
       "      <td>Product1</td>\n",
       "      <td>1200</td>\n",
       "      <td>Mastercard</td>\n",
       "      <td>Saraya</td>\n",
       "      <td>Dresden</td>\n",
       "      <td>Saxony</td>\n",
       "      <td>Germany</td>\n",
       "      <td>3/12/06 11:31</td>\n",
       "      <td>1/20/09 11:56</td>\n",
       "      <td>51.050000</td>\n",
       "      <td>13.750000</td>\n",
       "    </tr>\n",
       "    <tr>\n",
       "      <th>225</th>\n",
       "      <td>1/18/09 16:50</td>\n",
       "      <td>Product1</td>\n",
       "      <td>1200</td>\n",
       "      <td>Visa</td>\n",
       "      <td>Celina</td>\n",
       "      <td>North Brunswick</td>\n",
       "      <td>NJ</td>\n",
       "      <td>United States</td>\n",
       "      <td>1/18/09 16:25</td>\n",
       "      <td>1/22/09 1:17</td>\n",
       "      <td>40.449700</td>\n",
       "      <td>-74.482000</td>\n",
       "    </tr>\n",
       "    <tr>\n",
       "      <th>461</th>\n",
       "      <td>1/25/09 8:54</td>\n",
       "      <td>Product1</td>\n",
       "      <td>1200</td>\n",
       "      <td>Amex</td>\n",
       "      <td>Corinne</td>\n",
       "      <td>Anthem</td>\n",
       "      <td>AZ</td>\n",
       "      <td>United States</td>\n",
       "      <td>3/26/06 17:32</td>\n",
       "      <td>2/3/09 9:50</td>\n",
       "      <td>33.867220</td>\n",
       "      <td>-112.146110</td>\n",
       "    </tr>\n",
       "    <tr>\n",
       "      <th>408</th>\n",
       "      <td>1/9/09 16:35</td>\n",
       "      <td>Product1</td>\n",
       "      <td>1200</td>\n",
       "      <td>Diners</td>\n",
       "      <td>Jennifer</td>\n",
       "      <td>Nordstrand</td>\n",
       "      <td>Oslo</td>\n",
       "      <td>Norway</td>\n",
       "      <td>12/29/05 9:26</td>\n",
       "      <td>2/1/09 4:18</td>\n",
       "      <td>59.860833</td>\n",
       "      <td>10.790556</td>\n",
       "    </tr>\n",
       "    <tr>\n",
       "      <th>812</th>\n",
       "      <td>1/17/09 6:39</td>\n",
       "      <td>Product1</td>\n",
       "      <td>1200</td>\n",
       "      <td>Diners</td>\n",
       "      <td>Tatjana and Martin</td>\n",
       "      <td>Birmingham</td>\n",
       "      <td>England</td>\n",
       "      <td>United Kingdom</td>\n",
       "      <td>1/12/08 7:00</td>\n",
       "      <td>2/19/09 23:30</td>\n",
       "      <td>52.466667</td>\n",
       "      <td>-1.916667</td>\n",
       "    </tr>\n",
       "    <tr>\n",
       "      <th>64</th>\n",
       "      <td>1/7/09 0:12</td>\n",
       "      <td>Product2</td>\n",
       "      <td>3600</td>\n",
       "      <td>Mastercard</td>\n",
       "      <td>Deirdre</td>\n",
       "      <td>Lausanne</td>\n",
       "      <td>Vaud</td>\n",
       "      <td>Switzerland</td>\n",
       "      <td>12/1/08 6:25</td>\n",
       "      <td>1/12/09 6:55</td>\n",
       "      <td>46.533333</td>\n",
       "      <td>6.666667</td>\n",
       "    </tr>\n",
       "    <tr>\n",
       "      <th>474</th>\n",
       "      <td>1/1/09 16:00</td>\n",
       "      <td>Product1</td>\n",
       "      <td>1200</td>\n",
       "      <td>Visa</td>\n",
       "      <td>Toni</td>\n",
       "      <td>Bolton</td>\n",
       "      <td>England</td>\n",
       "      <td>United Kingdom</td>\n",
       "      <td>10/7/08 15:19</td>\n",
       "      <td>2/3/09 16:45</td>\n",
       "      <td>53.583333</td>\n",
       "      <td>-2.433333</td>\n",
       "    </tr>\n",
       "  </tbody>\n",
       "</table>\n",
       "</div>"
      ],
      "text/plain": [
       "    Transaction_date   Product  Price Payment_Type                  Name  \\\n",
       "963    1/22/09 12:45  Product3   7500         Visa  Frank and Christelle   \n",
       "221    1/21/09 14:55  Product1   1200       Diners                  john   \n",
       "928     1/26/09 5:38  Product2   3600         Amex                 Tulin   \n",
       "197      1/1/09 2:09  Product1   1200   Mastercard                Saraya   \n",
       "225    1/18/09 16:50  Product1   1200         Visa                Celina   \n",
       "461     1/25/09 8:54  Product1   1200         Amex               Corinne   \n",
       "408     1/9/09 16:35  Product1   1200       Diners              Jennifer   \n",
       "812     1/17/09 6:39  Product1   1200       Diners    Tatjana and Martin   \n",
       "64       1/7/09 0:12  Product2   3600   Mastercard               Deirdre   \n",
       "474     1/1/09 16:00  Product1   1200         Visa                  Toni   \n",
       "\n",
       "                             City    State         Country Account_Created  \\\n",
       "963  Valley Center                      CA   United States   1/22/09 10:25   \n",
       "221  New York                           NY   United States   1/21/09 10:23   \n",
       "928  Cranberry Twp                      PA   United States   9/28/08 19:40   \n",
       "197                       Dresden   Saxony         Germany   3/12/06 11:31   \n",
       "225  North Brunswick                    NJ   United States   1/18/09 16:25   \n",
       "461  Anthem                             AZ   United States   3/26/06 17:32   \n",
       "408                    Nordstrand     Oslo          Norway   12/29/05 9:26   \n",
       "812                    Birmingham  England  United Kingdom    1/12/08 7:00   \n",
       "64                       Lausanne     Vaud     Switzerland    12/1/08 6:25   \n",
       "474                        Bolton  England  United Kingdom   10/7/08 15:19   \n",
       "\n",
       "        Last_Login   Latitude   Longitude  \n",
       "963  2/27/09 10:49  33.218330 -117.033330  \n",
       "221  1/21/09 20:34  40.714170  -74.006390  \n",
       "928   2/26/09 6:04  40.694720  -80.131110  \n",
       "197  1/20/09 11:56  51.050000   13.750000  \n",
       "225   1/22/09 1:17  40.449700  -74.482000  \n",
       "461    2/3/09 9:50  33.867220 -112.146110  \n",
       "408    2/1/09 4:18  59.860833   10.790556  \n",
       "812  2/19/09 23:30  52.466667   -1.916667  \n",
       "64    1/12/09 6:55  46.533333    6.666667  \n",
       "474   2/3/09 16:45  53.583333   -2.433333  "
      ]
     },
     "execution_count": 6,
     "metadata": {},
     "output_type": "execute_result"
    }
   ],
   "source": [
    "dataset.sample(10)"
   ]
  },
  {
   "cell_type": "markdown",
   "metadata": {
    "deletable": true,
    "editable": true
   },
   "source": [
    "Pandas también nos permite responder preguntas un poco más interesantes como:\n",
    "\n",
    "**¿Cuáles son las transacciones que fueron realizadas en Noruega?**"
   ]
  },
  {
   "cell_type": "code",
   "execution_count": 7,
   "metadata": {
    "collapsed": false,
    "deletable": true,
    "editable": true
   },
   "outputs": [
    {
     "data": {
      "text/html": [
       "<div>\n",
       "<style>\n",
       "    .dataframe thead tr:only-child th {\n",
       "        text-align: right;\n",
       "    }\n",
       "\n",
       "    .dataframe thead th {\n",
       "        text-align: left;\n",
       "    }\n",
       "\n",
       "    .dataframe tbody tr th {\n",
       "        vertical-align: top;\n",
       "    }\n",
       "</style>\n",
       "<table border=\"1\" class=\"dataframe\">\n",
       "  <thead>\n",
       "    <tr style=\"text-align: right;\">\n",
       "      <th></th>\n",
       "      <th>Transaction_date</th>\n",
       "      <th>Product</th>\n",
       "      <th>Price</th>\n",
       "      <th>Payment_Type</th>\n",
       "      <th>Name</th>\n",
       "      <th>City</th>\n",
       "      <th>State</th>\n",
       "      <th>Country</th>\n",
       "      <th>Account_Created</th>\n",
       "      <th>Last_Login</th>\n",
       "      <th>Latitude</th>\n",
       "      <th>Longitude</th>\n",
       "    </tr>\n",
       "  </thead>\n",
       "  <tbody>\n",
       "    <tr>\n",
       "      <th>67</th>\n",
       "      <td>1/11/09 11:33</td>\n",
       "      <td>Product1</td>\n",
       "      <td>1200</td>\n",
       "      <td>Visa</td>\n",
       "      <td>Stefan</td>\n",
       "      <td>Stavanger</td>\n",
       "      <td>Rogaland</td>\n",
       "      <td>Norway</td>\n",
       "      <td>1/11/09 9:02</td>\n",
       "      <td>1/12/09 10:37</td>\n",
       "      <td>58.966667</td>\n",
       "      <td>5.750000</td>\n",
       "    </tr>\n",
       "    <tr>\n",
       "      <th>79</th>\n",
       "      <td>1/8/09 13:14</td>\n",
       "      <td>Product1</td>\n",
       "      <td>1200</td>\n",
       "      <td>Visa</td>\n",
       "      <td>Dr. Claudia</td>\n",
       "      <td>Oslo</td>\n",
       "      <td>Oslo</td>\n",
       "      <td>Norway</td>\n",
       "      <td>1/8/09 12:47</td>\n",
       "      <td>1/13/09 10:49</td>\n",
       "      <td>59.916667</td>\n",
       "      <td>10.750000</td>\n",
       "    </tr>\n",
       "    <tr>\n",
       "      <th>168</th>\n",
       "      <td>1/7/09 8:21</td>\n",
       "      <td>Product1</td>\n",
       "      <td>1200</td>\n",
       "      <td>Visa</td>\n",
       "      <td>Jannik</td>\n",
       "      <td>Holmenkollen</td>\n",
       "      <td>Oslo</td>\n",
       "      <td>Norway</td>\n",
       "      <td>1/3/09 11:06</td>\n",
       "      <td>1/19/09 6:54</td>\n",
       "      <td>59.966667</td>\n",
       "      <td>10.666667</td>\n",
       "    </tr>\n",
       "    <tr>\n",
       "      <th>213</th>\n",
       "      <td>1/21/09 11:36</td>\n",
       "      <td>Product1</td>\n",
       "      <td>1200</td>\n",
       "      <td>Visa</td>\n",
       "      <td>nicole</td>\n",
       "      <td>Oslo</td>\n",
       "      <td>Oslo</td>\n",
       "      <td>Norway</td>\n",
       "      <td>12/23/08 12:02</td>\n",
       "      <td>1/21/09 13:47</td>\n",
       "      <td>59.916667</td>\n",
       "      <td>10.750000</td>\n",
       "    </tr>\n",
       "    <tr>\n",
       "      <th>234</th>\n",
       "      <td>1/1/09 14:22</td>\n",
       "      <td>Product1</td>\n",
       "      <td>1200</td>\n",
       "      <td>Mastercard</td>\n",
       "      <td>Liban</td>\n",
       "      <td>Stavanger</td>\n",
       "      <td>Rogaland</td>\n",
       "      <td>Norway</td>\n",
       "      <td>6/19/08 10:48</td>\n",
       "      <td>1/22/09 14:38</td>\n",
       "      <td>58.966667</td>\n",
       "      <td>5.750000</td>\n",
       "    </tr>\n",
       "    <tr>\n",
       "      <th>262</th>\n",
       "      <td>1/10/09 3:28</td>\n",
       "      <td>Product1</td>\n",
       "      <td>1200</td>\n",
       "      <td>Visa</td>\n",
       "      <td>frauke</td>\n",
       "      <td>Horten</td>\n",
       "      <td>Vestfold</td>\n",
       "      <td>Norway</td>\n",
       "      <td>11/24/08 15:50</td>\n",
       "      <td>1/24/09 15:10</td>\n",
       "      <td>59.413611</td>\n",
       "      <td>10.466944</td>\n",
       "    </tr>\n",
       "    <tr>\n",
       "      <th>343</th>\n",
       "      <td>1/15/09 10:51</td>\n",
       "      <td>Product1</td>\n",
       "      <td>1200</td>\n",
       "      <td>Mastercard</td>\n",
       "      <td>Pia</td>\n",
       "      <td>Sola</td>\n",
       "      <td>Rogaland</td>\n",
       "      <td>Norway</td>\n",
       "      <td>1/11/09 8:54</td>\n",
       "      <td>1/28/09 10:39</td>\n",
       "      <td>58.883333</td>\n",
       "      <td>5.600000</td>\n",
       "    </tr>\n",
       "    <tr>\n",
       "      <th>387</th>\n",
       "      <td>1/11/09 14:56</td>\n",
       "      <td>Product1</td>\n",
       "      <td>1200</td>\n",
       "      <td>Visa</td>\n",
       "      <td>Nicole</td>\n",
       "      <td>Aardal</td>\n",
       "      <td>Sogn og Fjordane</td>\n",
       "      <td>Norway</td>\n",
       "      <td>1/5/09 5:51</td>\n",
       "      <td>1/31/09 4:21</td>\n",
       "      <td>61.550000</td>\n",
       "      <td>6.350000</td>\n",
       "    </tr>\n",
       "    <tr>\n",
       "      <th>408</th>\n",
       "      <td>1/9/09 16:35</td>\n",
       "      <td>Product1</td>\n",
       "      <td>1200</td>\n",
       "      <td>Diners</td>\n",
       "      <td>Jennifer</td>\n",
       "      <td>Nordstrand</td>\n",
       "      <td>Oslo</td>\n",
       "      <td>Norway</td>\n",
       "      <td>12/29/05 9:26</td>\n",
       "      <td>2/1/09 4:18</td>\n",
       "      <td>59.860833</td>\n",
       "      <td>10.790556</td>\n",
       "    </tr>\n",
       "    <tr>\n",
       "      <th>429</th>\n",
       "      <td>1/6/09 3:39</td>\n",
       "      <td>Product1</td>\n",
       "      <td>1200</td>\n",
       "      <td>Visa</td>\n",
       "      <td>Krista</td>\n",
       "      <td>Bergen</td>\n",
       "      <td>Hordaland</td>\n",
       "      <td>Norway</td>\n",
       "      <td>9/20/05 1:58</td>\n",
       "      <td>2/2/09 0:08</td>\n",
       "      <td>60.391111</td>\n",
       "      <td>5.324722</td>\n",
       "    </tr>\n",
       "    <tr>\n",
       "      <th>608</th>\n",
       "      <td>1/13/09 9:14</td>\n",
       "      <td>Product1</td>\n",
       "      <td>1200</td>\n",
       "      <td>Visa</td>\n",
       "      <td>sangeeta</td>\n",
       "      <td>Vossevangen</td>\n",
       "      <td>Hordaland</td>\n",
       "      <td>Norway</td>\n",
       "      <td>1/9/09 9:31</td>\n",
       "      <td>2/10/09 9:04</td>\n",
       "      <td>60.633333</td>\n",
       "      <td>6.433333</td>\n",
       "    </tr>\n",
       "    <tr>\n",
       "      <th>683</th>\n",
       "      <td>1/28/09 4:35</td>\n",
       "      <td>Product1</td>\n",
       "      <td>1200</td>\n",
       "      <td>Diners</td>\n",
       "      <td>Selene</td>\n",
       "      <td>Oslo</td>\n",
       "      <td>Oslo</td>\n",
       "      <td>Norway</td>\n",
       "      <td>4/5/05 5:30</td>\n",
       "      <td>2/13/09 23:15</td>\n",
       "      <td>59.916667</td>\n",
       "      <td>10.750000</td>\n",
       "    </tr>\n",
       "    <tr>\n",
       "      <th>831</th>\n",
       "      <td>1/25/09 8:16</td>\n",
       "      <td>Product2</td>\n",
       "      <td>3600</td>\n",
       "      <td>Visa</td>\n",
       "      <td>Astrid</td>\n",
       "      <td>Oslo</td>\n",
       "      <td>Oslo</td>\n",
       "      <td>Norway</td>\n",
       "      <td>4/22/07 2:19</td>\n",
       "      <td>2/20/09 23:22</td>\n",
       "      <td>59.916667</td>\n",
       "      <td>10.750000</td>\n",
       "    </tr>\n",
       "    <tr>\n",
       "      <th>897</th>\n",
       "      <td>1/19/09 10:47</td>\n",
       "      <td>Product1</td>\n",
       "      <td>1200</td>\n",
       "      <td>Mastercard</td>\n",
       "      <td>David</td>\n",
       "      <td>Stavenger</td>\n",
       "      <td>Rogaland</td>\n",
       "      <td>Norway</td>\n",
       "      <td>1/13/09 13:53</td>\n",
       "      <td>2/25/09 0:40</td>\n",
       "      <td>58.966667</td>\n",
       "      <td>5.750000</td>\n",
       "    </tr>\n",
       "    <tr>\n",
       "      <th>909</th>\n",
       "      <td>1/22/09 12:56</td>\n",
       "      <td>Product1</td>\n",
       "      <td>1200</td>\n",
       "      <td>Visa</td>\n",
       "      <td>Laleh</td>\n",
       "      <td>Aasgaardstrand</td>\n",
       "      <td>Vestfold</td>\n",
       "      <td>Norway</td>\n",
       "      <td>1/20/09 13:13</td>\n",
       "      <td>2/25/09 12:03</td>\n",
       "      <td>59.348889</td>\n",
       "      <td>10.467500</td>\n",
       "    </tr>\n",
       "    <tr>\n",
       "      <th>925</th>\n",
       "      <td>1/2/09 4:21</td>\n",
       "      <td>Product1</td>\n",
       "      <td>1200</td>\n",
       "      <td>Visa</td>\n",
       "      <td>Elaine</td>\n",
       "      <td>Tranby</td>\n",
       "      <td>Buskerud</td>\n",
       "      <td>Norway</td>\n",
       "      <td>7/30/07 11:42</td>\n",
       "      <td>2/26/09 3:18</td>\n",
       "      <td>59.816667</td>\n",
       "      <td>10.250000</td>\n",
       "    </tr>\n",
       "  </tbody>\n",
       "</table>\n",
       "</div>"
      ],
      "text/plain": [
       "    Transaction_date   Product  Price Payment_Type         Name  \\\n",
       "67     1/11/09 11:33  Product1   1200         Visa       Stefan   \n",
       "79      1/8/09 13:14  Product1   1200         Visa  Dr. Claudia   \n",
       "168      1/7/09 8:21  Product1   1200         Visa      Jannik    \n",
       "213    1/21/09 11:36  Product1   1200         Visa       nicole   \n",
       "234     1/1/09 14:22  Product1   1200   Mastercard        Liban   \n",
       "262     1/10/09 3:28  Product1   1200         Visa       frauke   \n",
       "343    1/15/09 10:51  Product1   1200   Mastercard         Pia    \n",
       "387    1/11/09 14:56  Product1   1200         Visa       Nicole   \n",
       "408     1/9/09 16:35  Product1   1200       Diners     Jennifer   \n",
       "429      1/6/09 3:39  Product1   1200         Visa       Krista   \n",
       "608     1/13/09 9:14  Product1   1200         Visa     sangeeta   \n",
       "683     1/28/09 4:35  Product1   1200       Diners       Selene   \n",
       "831     1/25/09 8:16  Product2   3600         Visa       Astrid   \n",
       "897    1/19/09 10:47  Product1   1200   Mastercard        David   \n",
       "909    1/22/09 12:56  Product1   1200         Visa        Laleh   \n",
       "925      1/2/09 4:21  Product1   1200         Visa       Elaine   \n",
       "\n",
       "               City             State Country Account_Created     Last_Login  \\\n",
       "67        Stavanger          Rogaland  Norway    1/11/09 9:02  1/12/09 10:37   \n",
       "79             Oslo              Oslo  Norway    1/8/09 12:47  1/13/09 10:49   \n",
       "168    Holmenkollen              Oslo  Norway    1/3/09 11:06   1/19/09 6:54   \n",
       "213            Oslo              Oslo  Norway  12/23/08 12:02  1/21/09 13:47   \n",
       "234       Stavanger          Rogaland  Norway   6/19/08 10:48  1/22/09 14:38   \n",
       "262          Horten          Vestfold  Norway  11/24/08 15:50  1/24/09 15:10   \n",
       "343            Sola          Rogaland  Norway    1/11/09 8:54  1/28/09 10:39   \n",
       "387          Aardal  Sogn og Fjordane  Norway     1/5/09 5:51   1/31/09 4:21   \n",
       "408      Nordstrand              Oslo  Norway   12/29/05 9:26    2/1/09 4:18   \n",
       "429          Bergen         Hordaland  Norway    9/20/05 1:58    2/2/09 0:08   \n",
       "608     Vossevangen         Hordaland  Norway     1/9/09 9:31   2/10/09 9:04   \n",
       "683            Oslo              Oslo  Norway     4/5/05 5:30  2/13/09 23:15   \n",
       "831            Oslo              Oslo  Norway    4/22/07 2:19  2/20/09 23:22   \n",
       "897       Stavenger          Rogaland  Norway   1/13/09 13:53   2/25/09 0:40   \n",
       "909  Aasgaardstrand          Vestfold  Norway   1/20/09 13:13  2/25/09 12:03   \n",
       "925          Tranby          Buskerud  Norway   7/30/07 11:42   2/26/09 3:18   \n",
       "\n",
       "      Latitude  Longitude  \n",
       "67   58.966667   5.750000  \n",
       "79   59.916667  10.750000  \n",
       "168  59.966667  10.666667  \n",
       "213  59.916667  10.750000  \n",
       "234  58.966667   5.750000  \n",
       "262  59.413611  10.466944  \n",
       "343  58.883333   5.600000  \n",
       "387  61.550000   6.350000  \n",
       "408  59.860833  10.790556  \n",
       "429  60.391111   5.324722  \n",
       "608  60.633333   6.433333  \n",
       "683  59.916667  10.750000  \n",
       "831  59.916667  10.750000  \n",
       "897  58.966667   5.750000  \n",
       "909  59.348889  10.467500  \n",
       "925  59.816667  10.250000  "
      ]
     },
     "execution_count": 7,
     "metadata": {},
     "output_type": "execute_result"
    }
   ],
   "source": [
    "dataset[dataset[\"Country\"] == \"Norway\"]"
   ]
  },
  {
   "cell_type": "markdown",
   "metadata": {
    "deletable": true,
    "editable": true
   },
   "source": [
    "**¿Cuáles son las transacciones que fueron realizadas con una tarjeta Visa en los Países Bajos?**"
   ]
  },
  {
   "cell_type": "code",
   "execution_count": 8,
   "metadata": {
    "collapsed": false,
    "deletable": true,
    "editable": true
   },
   "outputs": [
    {
     "data": {
      "text/html": [
       "<div>\n",
       "<style>\n",
       "    .dataframe thead tr:only-child th {\n",
       "        text-align: right;\n",
       "    }\n",
       "\n",
       "    .dataframe thead th {\n",
       "        text-align: left;\n",
       "    }\n",
       "\n",
       "    .dataframe tbody tr th {\n",
       "        vertical-align: top;\n",
       "    }\n",
       "</style>\n",
       "<table border=\"1\" class=\"dataframe\">\n",
       "  <thead>\n",
       "    <tr style=\"text-align: right;\">\n",
       "      <th></th>\n",
       "      <th>Transaction_date</th>\n",
       "      <th>Product</th>\n",
       "      <th>Price</th>\n",
       "      <th>Payment_Type</th>\n",
       "      <th>Name</th>\n",
       "      <th>City</th>\n",
       "      <th>State</th>\n",
       "      <th>Country</th>\n",
       "      <th>Account_Created</th>\n",
       "      <th>Last_Login</th>\n",
       "      <th>Latitude</th>\n",
       "      <th>Longitude</th>\n",
       "    </tr>\n",
       "  </thead>\n",
       "  <tbody>\n",
       "    <tr>\n",
       "      <th>224</th>\n",
       "      <td>1/21/09 14:25</td>\n",
       "      <td>Product1</td>\n",
       "      <td>1200</td>\n",
       "      <td>Visa</td>\n",
       "      <td>Tricia</td>\n",
       "      <td>Castricum</td>\n",
       "      <td>Noord-Holland</td>\n",
       "      <td>Netherlands</td>\n",
       "      <td>12/28/07 15:28</td>\n",
       "      <td>1/22/09 0:38</td>\n",
       "      <td>52.550000</td>\n",
       "      <td>4.666667</td>\n",
       "    </tr>\n",
       "    <tr>\n",
       "      <th>660</th>\n",
       "      <td>1/27/09 12:47</td>\n",
       "      <td>Product1</td>\n",
       "      <td>1200</td>\n",
       "      <td>Visa</td>\n",
       "      <td>Caterina</td>\n",
       "      <td>Amsterdam</td>\n",
       "      <td>Noord-Holland</td>\n",
       "      <td>Netherlands</td>\n",
       "      <td>1/27/09 12:03</td>\n",
       "      <td>2/12/09 12:59</td>\n",
       "      <td>52.350000</td>\n",
       "      <td>4.916667</td>\n",
       "    </tr>\n",
       "    <tr>\n",
       "      <th>712</th>\n",
       "      <td>1/19/09 15:40</td>\n",
       "      <td>Product2</td>\n",
       "      <td>3600</td>\n",
       "      <td>Visa</td>\n",
       "      <td>Julia</td>\n",
       "      <td>Ede</td>\n",
       "      <td>Gelderland</td>\n",
       "      <td>Netherlands</td>\n",
       "      <td>1/19/09 14:32</td>\n",
       "      <td>2/15/09 10:33</td>\n",
       "      <td>52.033333</td>\n",
       "      <td>5.666667</td>\n",
       "    </tr>\n",
       "    <tr>\n",
       "      <th>841</th>\n",
       "      <td>1/30/09 23:49</td>\n",
       "      <td>Product2</td>\n",
       "      <td>3600</td>\n",
       "      <td>Visa</td>\n",
       "      <td>Stephanie</td>\n",
       "      <td>Hilversum</td>\n",
       "      <td>Noord-Holland</td>\n",
       "      <td>Netherlands</td>\n",
       "      <td>11/30/08 11:54</td>\n",
       "      <td>2/21/09 14:05</td>\n",
       "      <td>52.233333</td>\n",
       "      <td>5.183333</td>\n",
       "    </tr>\n",
       "  </tbody>\n",
       "</table>\n",
       "</div>"
      ],
      "text/plain": [
       "    Transaction_date   Product  Price Payment_Type       Name       City  \\\n",
       "224    1/21/09 14:25  Product1   1200         Visa     Tricia  Castricum   \n",
       "660    1/27/09 12:47  Product1   1200         Visa   Caterina  Amsterdam   \n",
       "712    1/19/09 15:40  Product2   3600         Visa      Julia        Ede   \n",
       "841    1/30/09 23:49  Product2   3600         Visa  Stephanie  Hilversum   \n",
       "\n",
       "             State      Country Account_Created     Last_Login   Latitude  \\\n",
       "224  Noord-Holland  Netherlands  12/28/07 15:28   1/22/09 0:38  52.550000   \n",
       "660  Noord-Holland  Netherlands   1/27/09 12:03  2/12/09 12:59  52.350000   \n",
       "712     Gelderland  Netherlands   1/19/09 14:32  2/15/09 10:33  52.033333   \n",
       "841  Noord-Holland  Netherlands  11/30/08 11:54  2/21/09 14:05  52.233333   \n",
       "\n",
       "     Longitude  \n",
       "224   4.666667  \n",
       "660   4.916667  \n",
       "712   5.666667  \n",
       "841   5.183333  "
      ]
     },
     "execution_count": 8,
     "metadata": {},
     "output_type": "execute_result"
    }
   ],
   "source": [
    "dataset[(dataset[\"Country\"] == \"Netherlands\") & (dataset[\"Payment_Type\"] == \"Visa\")]"
   ]
  },
  {
   "cell_type": "markdown",
   "metadata": {
    "deletable": true,
    "editable": true
   },
   "source": [
    "La librería pandas nos permite resolver preguntas aun más interesantes, tales como **¿cuáles son los países con la mayor cantidad de transacciones?**. Para contestar esto, haremos uso de `group_by`, que, en palabras sencillas, nos permite agrupar las filas de un DataFrame de acuerdo a alguna(s) columna(s)."
   ]
  },
  {
   "cell_type": "code",
   "execution_count": 9,
   "metadata": {
    "collapsed": false,
    "deletable": true,
    "editable": true
   },
   "outputs": [
    {
     "data": {
      "text/plain": [
       "Country\n",
       "United States     463\n",
       "United Kingdom    100\n",
       "Canada             76\n",
       "Ireland            49\n",
       "Name: Transaction_date, dtype: int64"
      ]
     },
     "execution_count": 9,
     "metadata": {},
     "output_type": "execute_result"
    }
   ],
   "source": [
    "dataset.groupby([\"Country\"]).count()[\"Transaction_date\"].sort_values(ascending=False)[0:4]"
   ]
  },
  {
   "cell_type": "markdown",
   "metadata": {
    "deletable": true,
    "editable": true
   },
   "source": [
    "Ahora queremos saber cuánto dinero fue transado por cada medio de pago:"
   ]
  },
  {
   "cell_type": "code",
   "execution_count": 10,
   "metadata": {
    "collapsed": false,
    "deletable": true,
    "editable": true
   },
   "outputs": [
    {
     "data": {
      "text/plain": [
       "Payment_Type\n",
       "Amex          188900\n",
       "Diners        133800\n",
       "Mastercard    458450\n",
       "Visa          849350\n",
       "Name: Price, dtype: int64"
      ]
     },
     "execution_count": 10,
     "metadata": {},
     "output_type": "execute_result"
    }
   ],
   "source": [
    "dataset.groupby([\"Payment_Type\"])[\"Price\"].sum()"
   ]
  },
  {
   "cell_type": "markdown",
   "metadata": {
    "deletable": true,
    "editable": true
   },
   "source": [
    "#### Propuesto: ¿Cuál fue el producto más vendido dentro de Estados Unidos?"
   ]
  },
  {
   "cell_type": "code",
   "execution_count": 11,
   "metadata": {
    "collapsed": false,
    "deletable": true,
    "editable": true
   },
   "outputs": [],
   "source": [
    "# Escribe tu solución aquí"
   ]
  },
  {
   "cell_type": "markdown",
   "metadata": {
    "deletable": true,
    "editable": true
   },
   "source": [
    "El retorno de la celda anterior debería verse más o menos así:"
   ]
  },
  {
   "cell_type": "raw",
   "metadata": {
    "deletable": true,
    "editable": true
   },
   "source": [
    "Product\n",
    "Product1     400\n",
    "Product2      55\n",
    "Product3       7\n",
    "Product3       1\n",
    "Name: Transaction_date, dtype: int64"
   ]
  },
  {
   "cell_type": "markdown",
   "metadata": {
    "deletable": true,
    "editable": true
   },
   "source": [
    "### Agregando información al dataset"
   ]
  },
  {
   "cell_type": "markdown",
   "metadata": {
    "deletable": true,
    "editable": true
   },
   "source": [
    "Queremos agregar una columna que indique cuán satisfecho quedó el cliente con su transacción. La medida de satisfacción que utilizaremos será una nota de 1 a 5. Primero definimos una función que entregue $n$ *ratings* aleatorios."
   ]
  },
  {
   "cell_type": "code",
   "execution_count": 12,
   "metadata": {
    "collapsed": true,
    "deletable": true,
    "editable": true
   },
   "outputs": [],
   "source": [
    "import random\n",
    "\n",
    "def random_ratings(number):\n",
    "    ratings = []\n",
    "    for i in range(number):\n",
    "        rating = random.choice(range(1,6))\n",
    "        ratings.append(rating)\n",
    "    return ratings"
   ]
  },
  {
   "cell_type": "markdown",
   "metadata": {
    "deletable": true,
    "editable": true
   },
   "source": [
    "Ahora agregamos la columna de ratings de la siguiente manera:"
   ]
  },
  {
   "cell_type": "code",
   "execution_count": 13,
   "metadata": {
    "collapsed": true,
    "deletable": true,
    "editable": true
   },
   "outputs": [],
   "source": [
    "ratings = random_ratings(len(dataset))\n",
    "dataset[\"Rating\"] = ratings"
   ]
  },
  {
   "cell_type": "markdown",
   "metadata": {
    "deletable": true,
    "editable": true
   },
   "source": [
    "Revisemos si efectivamente se añadió la columna:"
   ]
  },
  {
   "cell_type": "code",
   "execution_count": 14,
   "metadata": {
    "collapsed": false,
    "deletable": true,
    "editable": true
   },
   "outputs": [
    {
     "data": {
      "text/html": [
       "<div>\n",
       "<style>\n",
       "    .dataframe thead tr:only-child th {\n",
       "        text-align: right;\n",
       "    }\n",
       "\n",
       "    .dataframe thead th {\n",
       "        text-align: left;\n",
       "    }\n",
       "\n",
       "    .dataframe tbody tr th {\n",
       "        vertical-align: top;\n",
       "    }\n",
       "</style>\n",
       "<table border=\"1\" class=\"dataframe\">\n",
       "  <thead>\n",
       "    <tr style=\"text-align: right;\">\n",
       "      <th></th>\n",
       "      <th>Transaction_date</th>\n",
       "      <th>Product</th>\n",
       "      <th>Price</th>\n",
       "      <th>Payment_Type</th>\n",
       "      <th>Name</th>\n",
       "      <th>City</th>\n",
       "      <th>State</th>\n",
       "      <th>Country</th>\n",
       "      <th>Account_Created</th>\n",
       "      <th>Last_Login</th>\n",
       "      <th>Latitude</th>\n",
       "      <th>Longitude</th>\n",
       "      <th>Rating</th>\n",
       "    </tr>\n",
       "  </thead>\n",
       "  <tbody>\n",
       "    <tr>\n",
       "      <th>926</th>\n",
       "      <td>1/5/09 3:03</td>\n",
       "      <td>Product1</td>\n",
       "      <td>1200</td>\n",
       "      <td>Diners</td>\n",
       "      <td>Elizabeth</td>\n",
       "      <td>Cork</td>\n",
       "      <td>Cork</td>\n",
       "      <td>Ireland</td>\n",
       "      <td>5/21/08 7:50</td>\n",
       "      <td>2/26/09 4:05</td>\n",
       "      <td>51.898611</td>\n",
       "      <td>-8.495833</td>\n",
       "      <td>5</td>\n",
       "    </tr>\n",
       "    <tr>\n",
       "      <th>97</th>\n",
       "      <td>1/6/09 21:13</td>\n",
       "      <td>Product1</td>\n",
       "      <td>1200</td>\n",
       "      <td>Visa</td>\n",
       "      <td>Kofi</td>\n",
       "      <td>Vancouver</td>\n",
       "      <td>British Columbia</td>\n",
       "      <td>Canada</td>\n",
       "      <td>1/7/08 21:16</td>\n",
       "      <td>1/14/09 20:50</td>\n",
       "      <td>49.250000</td>\n",
       "      <td>-123.133333</td>\n",
       "      <td>1</td>\n",
       "    </tr>\n",
       "    <tr>\n",
       "      <th>470</th>\n",
       "      <td>1/7/09 14:55</td>\n",
       "      <td>Product1</td>\n",
       "      <td>1200</td>\n",
       "      <td>Visa</td>\n",
       "      <td>Jennifer</td>\n",
       "      <td>Drogheda</td>\n",
       "      <td>Louth</td>\n",
       "      <td>Ireland</td>\n",
       "      <td>9/21/06 2:39</td>\n",
       "      <td>2/3/09 13:36</td>\n",
       "      <td>53.718889</td>\n",
       "      <td>-6.347778</td>\n",
       "      <td>2</td>\n",
       "    </tr>\n",
       "    <tr>\n",
       "      <th>609</th>\n",
       "      <td>1/22/09 7:35</td>\n",
       "      <td>Product1</td>\n",
       "      <td>1200</td>\n",
       "      <td>Visa</td>\n",
       "      <td>Anja</td>\n",
       "      <td>Ferney-Voltaire</td>\n",
       "      <td>Rhone-Alpes</td>\n",
       "      <td>France</td>\n",
       "      <td>1/22/09 6:51</td>\n",
       "      <td>2/10/09 9:18</td>\n",
       "      <td>46.250000</td>\n",
       "      <td>6.116667</td>\n",
       "      <td>3</td>\n",
       "    </tr>\n",
       "    <tr>\n",
       "      <th>856</th>\n",
       "      <td>1/23/09 14:57</td>\n",
       "      <td>Product1</td>\n",
       "      <td>1200</td>\n",
       "      <td>Mastercard</td>\n",
       "      <td>Surat</td>\n",
       "      <td>Bridgewater</td>\n",
       "      <td>NJ</td>\n",
       "      <td>United States</td>\n",
       "      <td>7/29/08 12:00</td>\n",
       "      <td>2/22/09 18:48</td>\n",
       "      <td>40.594500</td>\n",
       "      <td>-74.624400</td>\n",
       "      <td>5</td>\n",
       "    </tr>\n",
       "  </tbody>\n",
       "</table>\n",
       "</div>"
      ],
      "text/plain": [
       "    Transaction_date   Product  Price Payment_Type       Name  \\\n",
       "926      1/5/09 3:03  Product1   1200       Diners  Elizabeth   \n",
       "97      1/6/09 21:13  Product1   1200         Visa       Kofi   \n",
       "470     1/7/09 14:55  Product1   1200         Visa   Jennifer   \n",
       "609     1/22/09 7:35  Product1   1200         Visa       Anja   \n",
       "856    1/23/09 14:57  Product1   1200   Mastercard      Surat   \n",
       "\n",
       "                             City             State        Country  \\\n",
       "926                          Cork              Cork        Ireland   \n",
       "97                      Vancouver  British Columbia         Canada   \n",
       "470                      Drogheda             Louth        Ireland   \n",
       "609               Ferney-Voltaire       Rhone-Alpes         France   \n",
       "856  Bridgewater                                 NJ  United States   \n",
       "\n",
       "    Account_Created     Last_Login   Latitude   Longitude  Rating  \n",
       "926    5/21/08 7:50   2/26/09 4:05  51.898611   -8.495833       5  \n",
       "97     1/7/08 21:16  1/14/09 20:50  49.250000 -123.133333       1  \n",
       "470    9/21/06 2:39   2/3/09 13:36  53.718889   -6.347778       2  \n",
       "609    1/22/09 6:51   2/10/09 9:18  46.250000    6.116667       3  \n",
       "856   7/29/08 12:00  2/22/09 18:48  40.594500  -74.624400       5  "
      ]
     },
     "execution_count": 14,
     "metadata": {},
     "output_type": "execute_result"
    }
   ],
   "source": [
    "dataset.sample(5)"
   ]
  },
  {
   "cell_type": "markdown",
   "metadata": {
    "deletable": true,
    "editable": true
   },
   "source": [
    "Imaginemos que queremos cambiar los números de rating 1-5 a algo más descriptivo:\n",
    "\n",
    "- 1: Very Dissatisfied.\n",
    "- 2: Somewhat Dissatisfied.\n",
    "- 3: Neither Satisfied Nor Dissatisfied.\n",
    "- 4: Somewhat Satisfied.\n",
    "- 5: Very Satisfied.\n",
    "\n",
    "¿Cómo lo hacemos? El método `apply` nos ayudará mucho.\n",
    "\n",
    "En primer lugar, conviene definir una función que dado un *rating* numérico, retorne la medida de satisfacción en palabras:\n"
   ]
  },
  {
   "cell_type": "code",
   "execution_count": 15,
   "metadata": {
    "collapsed": true,
    "deletable": true,
    "editable": true
   },
   "outputs": [],
   "source": [
    "def convert(rating):\n",
    "    if rating == 1:\n",
    "        return \"Very Dissatisfied\"\n",
    "    elif rating == 2:\n",
    "        return \"Somewhat Dissatisfied\"\n",
    "    elif rating == 3:\n",
    "        return \"Neither Satisfied Nor Dissatisfied\"\n",
    "    elif rating == 4:\n",
    "        return \"Somewhat Satisfied\"\n",
    "    else:\n",
    "        return \"Very Satisfied\""
   ]
  },
  {
   "cell_type": "markdown",
   "metadata": {
    "deletable": true,
    "editable": true
   },
   "source": [
    "Posteriormente, aplicamos la función a la columna *Ratings*:"
   ]
  },
  {
   "cell_type": "code",
   "execution_count": 16,
   "metadata": {
    "collapsed": false,
    "deletable": true,
    "editable": true
   },
   "outputs": [],
   "source": [
    "dataset[\"Rating\"] = dataset[\"Rating\"].apply(convert)"
   ]
  },
  {
   "cell_type": "markdown",
   "metadata": {
    "deletable": true,
    "editable": true
   },
   "source": [
    "Veamos cómo quedó el dataset:"
   ]
  },
  {
   "cell_type": "code",
   "execution_count": 17,
   "metadata": {
    "collapsed": false,
    "deletable": true,
    "editable": true
   },
   "outputs": [
    {
     "data": {
      "text/html": [
       "<div>\n",
       "<style>\n",
       "    .dataframe thead tr:only-child th {\n",
       "        text-align: right;\n",
       "    }\n",
       "\n",
       "    .dataframe thead th {\n",
       "        text-align: left;\n",
       "    }\n",
       "\n",
       "    .dataframe tbody tr th {\n",
       "        vertical-align: top;\n",
       "    }\n",
       "</style>\n",
       "<table border=\"1\" class=\"dataframe\">\n",
       "  <thead>\n",
       "    <tr style=\"text-align: right;\">\n",
       "      <th></th>\n",
       "      <th>Transaction_date</th>\n",
       "      <th>Product</th>\n",
       "      <th>Price</th>\n",
       "      <th>Payment_Type</th>\n",
       "      <th>Name</th>\n",
       "      <th>City</th>\n",
       "      <th>State</th>\n",
       "      <th>Country</th>\n",
       "      <th>Account_Created</th>\n",
       "      <th>Last_Login</th>\n",
       "      <th>Latitude</th>\n",
       "      <th>Longitude</th>\n",
       "      <th>Rating</th>\n",
       "    </tr>\n",
       "  </thead>\n",
       "  <tbody>\n",
       "    <tr>\n",
       "      <th>0</th>\n",
       "      <td>1/2/09 6:17</td>\n",
       "      <td>Product1</td>\n",
       "      <td>1200</td>\n",
       "      <td>Mastercard</td>\n",
       "      <td>carolina</td>\n",
       "      <td>Basildon</td>\n",
       "      <td>England</td>\n",
       "      <td>United Kingdom</td>\n",
       "      <td>1/2/09 6:00</td>\n",
       "      <td>1/2/09 6:08</td>\n",
       "      <td>51.500000</td>\n",
       "      <td>-1.116667</td>\n",
       "      <td>Very Dissatisfied</td>\n",
       "    </tr>\n",
       "    <tr>\n",
       "      <th>1</th>\n",
       "      <td>1/2/09 4:53</td>\n",
       "      <td>Product1</td>\n",
       "      <td>1200</td>\n",
       "      <td>Visa</td>\n",
       "      <td>Betina</td>\n",
       "      <td>Parkville</td>\n",
       "      <td>MO</td>\n",
       "      <td>United States</td>\n",
       "      <td>1/2/09 4:42</td>\n",
       "      <td>1/2/09 7:49</td>\n",
       "      <td>39.195000</td>\n",
       "      <td>-94.681940</td>\n",
       "      <td>Very Satisfied</td>\n",
       "    </tr>\n",
       "    <tr>\n",
       "      <th>2</th>\n",
       "      <td>1/2/09 13:08</td>\n",
       "      <td>Product1</td>\n",
       "      <td>1200</td>\n",
       "      <td>Mastercard</td>\n",
       "      <td>Federica e Andrea</td>\n",
       "      <td>Astoria</td>\n",
       "      <td>OR</td>\n",
       "      <td>United States</td>\n",
       "      <td>1/1/09 16:21</td>\n",
       "      <td>1/3/09 12:32</td>\n",
       "      <td>46.188060</td>\n",
       "      <td>-123.830000</td>\n",
       "      <td>Neither Satisfied Nor Dissatisfied</td>\n",
       "    </tr>\n",
       "    <tr>\n",
       "      <th>3</th>\n",
       "      <td>1/3/09 14:44</td>\n",
       "      <td>Product1</td>\n",
       "      <td>1200</td>\n",
       "      <td>Visa</td>\n",
       "      <td>Gouya</td>\n",
       "      <td>Echuca</td>\n",
       "      <td>Victoria</td>\n",
       "      <td>Australia</td>\n",
       "      <td>9/25/05 21:13</td>\n",
       "      <td>1/3/09 14:22</td>\n",
       "      <td>-36.133333</td>\n",
       "      <td>144.750000</td>\n",
       "      <td>Very Satisfied</td>\n",
       "    </tr>\n",
       "    <tr>\n",
       "      <th>4</th>\n",
       "      <td>1/4/09 12:56</td>\n",
       "      <td>Product2</td>\n",
       "      <td>3600</td>\n",
       "      <td>Visa</td>\n",
       "      <td>Gerd W</td>\n",
       "      <td>Cahaba Heights</td>\n",
       "      <td>AL</td>\n",
       "      <td>United States</td>\n",
       "      <td>11/15/08 15:47</td>\n",
       "      <td>1/4/09 12:45</td>\n",
       "      <td>33.520560</td>\n",
       "      <td>-86.802500</td>\n",
       "      <td>Very Dissatisfied</td>\n",
       "    </tr>\n",
       "  </tbody>\n",
       "</table>\n",
       "</div>"
      ],
      "text/plain": [
       "  Transaction_date   Product  Price Payment_Type               Name  \\\n",
       "0      1/2/09 6:17  Product1   1200   Mastercard           carolina   \n",
       "1      1/2/09 4:53  Product1   1200         Visa             Betina   \n",
       "2     1/2/09 13:08  Product1   1200   Mastercard  Federica e Andrea   \n",
       "3     1/3/09 14:44  Product1   1200         Visa              Gouya   \n",
       "4     1/4/09 12:56  Product2   3600         Visa            Gerd W    \n",
       "\n",
       "                           City     State         Country Account_Created  \\\n",
       "0                      Basildon   England  United Kingdom     1/2/09 6:00   \n",
       "1  Parkville                           MO   United States     1/2/09 4:42   \n",
       "2  Astoria                             OR   United States    1/1/09 16:21   \n",
       "3                        Echuca  Victoria       Australia   9/25/05 21:13   \n",
       "4  Cahaba Heights                      AL   United States  11/15/08 15:47   \n",
       "\n",
       "     Last_Login   Latitude   Longitude                              Rating  \n",
       "0   1/2/09 6:08  51.500000   -1.116667                   Very Dissatisfied  \n",
       "1   1/2/09 7:49  39.195000  -94.681940                      Very Satisfied  \n",
       "2  1/3/09 12:32  46.188060 -123.830000  Neither Satisfied Nor Dissatisfied  \n",
       "3  1/3/09 14:22 -36.133333  144.750000                      Very Satisfied  \n",
       "4  1/4/09 12:45  33.520560  -86.802500                   Very Dissatisfied  "
      ]
     },
     "execution_count": 17,
     "metadata": {},
     "output_type": "execute_result"
    }
   ],
   "source": [
    "dataset.head()"
   ]
  },
  {
   "cell_type": "markdown",
   "metadata": {
    "deletable": true,
    "editable": true
   },
   "source": [
    "Esto ha sido solo una pequeña introducción a pandas. Es muy posible que en tu tarea debas emplear algunas cosas que no vimos en esta ayudantía, por lo que deberás investigar por tu cuenta. Recuerda que ante cualquier duda, los ayudantes estamos a tu completa disposición."
   ]
  }
 ],
 "metadata": {
  "kernelspec": {
   "display_name": "Python 3",
   "language": "python",
   "name": "python3"
  },
  "language_info": {
   "codemirror_mode": {
    "name": "ipython",
    "version": 3
   },
   "file_extension": ".py",
   "mimetype": "text/x-python",
   "name": "python",
   "nbconvert_exporter": "python",
   "pygments_lexer": "ipython3",
   "version": "3.6.3"
  }
 },
 "nbformat": 4,
 "nbformat_minor": 2
}
